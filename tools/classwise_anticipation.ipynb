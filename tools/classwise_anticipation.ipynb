{
 "cells": [
  {
   "cell_type": "code",
   "execution_count": null,
   "metadata": {},
   "outputs": [],
   "source": [
    "import pandas as pd\n",
    "import json"
   ]
  },
  {
   "cell_type": "code",
   "execution_count": null,
   "metadata": {},
   "outputs": [],
   "source": [
    "preds = json.load(open('../checkpoints/hoivit_ek_wmotion_doubleatt_ant/val.json','r'))\n",
    "preds = preds['results']\n",
    "pred_dict = {}\n",
    "for key in preds.keys():\n",
    "    verb_pred_dict = preds[key]['verb']\n",
    "    noun_pred_dict = preds[key]['noun']\n",
    "    best_verb_val = max(verb_pred_dict, key=verb_pred_dict.get)\n",
    "    best_noun_val = max(noun_pred_dict, key=noun_pred_dict.get)\n",
    "    pred_dict[key] = {'verb': best_verb_val, 'noun': best_noun_val}"
   ]
  },
  {
   "cell_type": "code",
   "execution_count": null,
   "metadata": {},
   "outputs": [],
   "source": [
    "gt = pd.read_csv('../epic-kitchens-100-annotations/EPIC_100_validation.csv')\n",
    "gt_dict = {}\n",
    "for row in gt.iterrows():\n",
    "    gt_dict[row[1]['narration_id']] = {'verb' : row[1]['verb_class'], 'noun' : row[1]['noun_class']}"
   ]
  },
  {
   "cell_type": "code",
   "execution_count": null,
   "metadata": {},
   "outputs": [],
   "source": [
    "correct_verb = [0 for _ in range(97)]\n",
    "correct_noun = [0 for _ in range(300)]\n",
    "\n",
    "total_verb = [0 for _ in range(97)]\n",
    "total_noun = [0 for _ in range(300)]\n",
    "\n",
    "\n",
    "for key in pred_dict.keys():\n",
    "    if key in gt_dict.keys():\n",
    "        if int(pred_dict[key]['verb']) == int(gt_dict[key]['verb']):\n",
    "            correct_verb[int(pred_dict[key]['verb'])] += 1\n",
    "        if int(pred_dict[key]['noun']) == int(gt_dict[key]['noun']):\n",
    "            correct_noun[int(pred_dict[key]['noun'])] += 1\n",
    "\n",
    "for key in gt_dict.keys():\n",
    "    total_verb[int(gt_dict[key]['verb'])] += 1\n",
    "    total_noun[int(gt_dict[key]['noun'])] += 1"
   ]
  },
  {
   "cell_type": "code",
   "execution_count": null,
   "metadata": {},
   "outputs": [],
   "source": [
    "percent_verb_correct = [0 for _ in range(97) ]\n",
    "percent_noun_correct = [0 for _ in range(300)]\n",
    "for i, (item1,item2,item3,item4) in enumerate(zip(correct_verb,total_verb,correct_noun,total_noun)):\n",
    "    if item2:\n",
    "        percent_verb_correct[i] = (item1/item2)\n",
    "    if item3:\n",
    "        percent_noun_correct[i] = (item3/item4)"
   ]
  },
  {
   "cell_type": "code",
   "execution_count": null,
   "metadata": {},
   "outputs": [],
   "source": [
    "import numpy as np\n",
    "\n",
    "top10_verbs = np.argsort(percent_verb_correct)[-10:]\n",
    "top10_nouns = np.argsort(percent_noun_correct)[-10:]\n",
    "\n",
    "actions = pd.read_csv('../epic-kitchens-100-annotations/actions.csv')"
   ]
  },
  {
   "cell_type": "code",
   "execution_count": null,
   "metadata": {},
   "outputs": [],
   "source": [
    "correct_action = np.zeros((97,300))\n",
    "total_action = np.zeros((97,300))\n",
    "\n",
    "\n",
    "for key in pred_dict.keys():\n",
    "    if key in gt_dict.keys():\n",
    "        if int(pred_dict[key]['verb']) == int(gt_dict[key]['verb']) and \\\n",
    "            int(pred_dict[key]['noun']) == int(gt_dict[key]['noun']):\n",
    "            correct_action[int(pred_dict[key]['verb'])][int(pred_dict[key]['noun'])] += 1\n",
    "\n",
    "for key in gt_dict.keys():\n",
    "    total_action[int(gt_dict[key]['verb'])][int(gt_dict[key]['noun'])] += 1"
   ]
  },
  {
   "cell_type": "code",
   "execution_count": 66,
   "metadata": {},
   "outputs": [],
   "source": [
    "percent_action_correct = np.divide(correct_action, total_action, out=np.zeros_like(correct_action), where=total_action!=0)\n",
    "def k_largest_index_argpartition_v1(a, k):\n",
    "    idx = np.argpartition(-a.ravel(),k)[:k]\n",
    "    return np.column_stack(np.unravel_index(idx, a.shape))\n",
    "\n",
    "top10_actions = k_largest_index_argpartition_v1(percent_action_correct,10)"
   ]
  },
  {
   "cell_type": "code",
   "execution_count": 69,
   "metadata": {},
   "outputs": [
    {
     "name": "stdout",
     "output_type": "stream",
     "text": [
      "set\n",
      "transition\n",
      "dry\n",
      "open\n",
      "put\n",
      "knead\n",
      "take\n",
      "cut\n",
      "wash\n",
      "mix\n"
     ]
    }
   ],
   "source": [
    "for verb in top10_verbs:\n",
    "    print(list(actions[actions['verb'] == verb]['action'].values)[0].split()[0])"
   ]
  },
  {
   "cell_type": "code",
   "execution_count": 70,
   "metadata": {},
   "outputs": [
    {
     "name": "stdout",
     "output_type": "stream",
     "text": [
      "bin\n",
      "microwave\n",
      "tap\n",
      "plate\n",
      "cupboard\n",
      "pizza\n",
      "fridge\n",
      "dough\n",
      "mat\n",
      "peach\n"
     ]
    }
   ],
   "source": [
    "for noun in top10_nouns:\n",
    "    print(list(actions[actions['noun'] == noun]['action'].values)[0].split()[1])"
   ]
  },
  {
   "cell_type": "code",
   "execution_count": 68,
   "metadata": {},
   "outputs": [
    {
     "name": "stdout",
     "output_type": "stream",
     "text": [
      "['mix meat']\n",
      "['cut pizza']\n",
      "['dry pan']\n",
      "['remove onion']\n",
      "['turn knob']\n",
      "['remove cover']\n",
      "['crush spice']\n",
      "['take parsley']\n",
      "['close squash']\n",
      "['pour sugar']\n"
     ]
    }
   ],
   "source": [
    "for verb, noun in top10_actions:\n",
    "    print(list(actions.loc[(actions['verb'] == verb) & (actions['noun'] == noun)]['action'].values))"
   ]
  },
  {
   "cell_type": "code",
   "execution_count": null,
   "metadata": {},
   "outputs": [],
   "source": []
  }
 ],
 "metadata": {
  "kernelspec": {
   "display_name": "Python 3.8.5 ('motionformer')",
   "language": "python",
   "name": "python3"
  },
  "language_info": {
   "codemirror_mode": {
    "name": "ipython",
    "version": 3
   },
   "file_extension": ".py",
   "mimetype": "text/x-python",
   "name": "python",
   "nbconvert_exporter": "python",
   "pygments_lexer": "ipython3",
   "version": "3.8.5"
  },
  "orig_nbformat": 4,
  "vscode": {
   "interpreter": {
    "hash": "45cc188df1ef5582c38d97e85df64391f6a7344a93618f2b66e6d75e78f0aaaa"
   }
  }
 },
 "nbformat": 4,
 "nbformat_minor": 2
}
