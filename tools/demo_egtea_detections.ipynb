{
 "cells": [
  {
   "cell_type": "code",
   "execution_count": 20,
   "metadata": {},
   "outputs": [],
   "source": [
    "from typing import Union, List\n",
    "from pathlib import Path\n",
    "import re\n",
    "from ipywidgets import interact, IntSlider, Layout\n",
    "\n",
    "from detection_visualizer import load_detections, DetectionRenderer\n",
    "\n",
    "import PIL.Image\n"
   ]
  },
  {
   "cell_type": "code",
   "execution_count": 21,
   "metadata": {},
   "outputs": [],
   "source": [
    "# Adjust these to the where-ever your detections and frames are stored.\n",
    "\n",
    "# detections_root should point to a folder with the structure\n",
    "# detections_root\n",
    "# |-- PXX\n",
    "# |   |--- PXX_YY.pkl\n",
    "detections_root = Path('/data/dataset/egtea/handobj_raw_detection/')\n",
    "\n",
    "# frame_root shout point to a folder with the structure\n",
    "# frames_root\n",
    "# |-- PXX\n",
    "# |   |-- PXX_YY\n",
    "# |   |   |-- frame_zzzzzzzzzz.jpg\n",
    "frames_root = Path('/data/dataset/egtea/frames/')"
   ]
  },
  {
   "cell_type": "code",
   "execution_count": 22,
   "metadata": {},
   "outputs": [
    {
     "data": {
      "text/plain": [
       "48400"
      ]
     },
     "execution_count": 22,
     "metadata": {},
     "output_type": "execute_result"
    }
   ],
   "source": [
    "import pickle\n",
    "import os\n",
    "import random\n",
    "\n",
    "video_ids = os.listdir(detections_root)\n",
    "video_id = random.choice(video_ids).strip('.pkl')\n",
    "video_detections = load_detections(os.path.join(detections_root, video_id + '.pkl'))\n",
    "max_frame_idx = len(video_detections) - 1\n",
    "max_frame_idx"
   ]
  },
  {
   "cell_type": "code",
   "execution_count": 23,
   "metadata": {},
   "outputs": [
    {
     "data": {
      "text/plain": [
       "<detection_visualizer.FrameDetections at 0x7f796328d700>"
      ]
     },
     "execution_count": 23,
     "metadata": {},
     "output_type": "execute_result"
    }
   ],
   "source": [
    "frame_idx = 500\n",
    "video_detections[frame_idx]"
   ]
  },
  {
   "cell_type": "code",
   "execution_count": 24,
   "metadata": {},
   "outputs": [],
   "source": [
    "class LazyFrameLoader:\n",
    "    def __init__(self, path: Union[Path, str], frame_template: str = '{:010d}.jpg'):\n",
    "        self.path = Path(path)\n",
    "        self.frame_template = frame_template\n",
    "        \n",
    "    def __getitem__(self, idx: int) -> PIL.Image.Image:\n",
    "        return PIL.Image.open(str(self.path / self.frame_template.format(idx + 1)))"
   ]
  },
  {
   "cell_type": "code",
   "execution_count": 25,
   "metadata": {},
   "outputs": [
    {
     "name": "stderr",
     "output_type": "stream",
     "text": [
      "/data/roy2/HOIVIT/tools/detection_visualizer.py:188: UserWarning: Could not find font, falling back to Pillow default. `font_size` will not have an effect\n",
      "  warnings.warn(\n"
     ]
    }
   ],
   "source": [
    "frames = LazyFrameLoader(frames_root / video_id)\n",
    "renderer = DetectionRenderer(hand_threshold=0.1, object_threshold=0.1)"
   ]
  },
  {
   "cell_type": "code",
   "execution_count": 27,
   "metadata": {},
   "outputs": [
    {
     "data": {
      "application/vnd.jupyter.widget-view+json": {
       "model_id": "5876e282d1974858b9344881645a6035",
       "version_major": 2,
       "version_minor": 0
      },
      "text/plain": [
       "interactive(children=(IntSlider(value=403, description='frame_idx', layout=Layout(width='480px'), max=48400), …"
      ]
     },
     "metadata": {},
     "output_type": "display_data"
    }
   ],
   "source": [
    "@interact(frame_idx=IntSlider(value=403, min=0, max=max_frame_idx, layout=Layout(width='480px')))\n",
    "def render_detections(frame_idx):\n",
    "    return renderer.render_detections(frames[frame_idx], video_detections[frame_idx])"
   ]
  }
 ],
 "metadata": {
  "kernelspec": {
   "display_name": "Python 3.8.5 ('motionformer')",
   "language": "python",
   "name": "python3"
  },
  "language_info": {
   "codemirror_mode": {
    "name": "ipython",
    "version": 3
   },
   "file_extension": ".py",
   "mimetype": "text/x-python",
   "name": "python",
   "nbconvert_exporter": "python",
   "pygments_lexer": "ipython3",
   "version": "3.8.5"
  },
  "vscode": {
   "interpreter": {
    "hash": "45cc188df1ef5582c38d97e85df64391f6a7344a93618f2b66e6d75e78f0aaaa"
   }
  }
 },
 "nbformat": 4,
 "nbformat_minor": 4
}
