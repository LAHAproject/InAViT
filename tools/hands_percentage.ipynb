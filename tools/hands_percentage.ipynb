{
 "cells": [
  {
   "cell_type": "code",
   "execution_count": 1,
   "metadata": {},
   "outputs": [],
   "source": [
    "import h5py\n",
    "import pandas"
   ]
  },
  {
   "cell_type": "code",
   "execution_count": 2,
   "metadata": {},
   "outputs": [],
   "source": [
    "boxes = h5py.File('../data_cache/linked_boxes/epickitchens.h5', \"r\")"
   ]
  },
  {
   "cell_type": "code",
   "execution_count": 3,
   "metadata": {},
   "outputs": [],
   "source": [
    "TRAIN_LIST = \"../epic-kitchens-100-annotations/EPIC_100_train.pkl\"\n",
    "train_file = pandas.read_pickle(TRAIN_LIST)"
   ]
  },
  {
   "cell_type": "code",
   "execution_count": 15,
   "metadata": {},
   "outputs": [
    {
     "data": {
      "text/html": [
       "<div>\n",
       "<style scoped>\n",
       "    .dataframe tbody tr th:only-of-type {\n",
       "        vertical-align: middle;\n",
       "    }\n",
       "\n",
       "    .dataframe tbody tr th {\n",
       "        vertical-align: top;\n",
       "    }\n",
       "\n",
       "    .dataframe thead th {\n",
       "        text-align: right;\n",
       "    }\n",
       "</style>\n",
       "<table border=\"1\" class=\"dataframe\">\n",
       "  <thead>\n",
       "    <tr style=\"text-align: right;\">\n",
       "      <th></th>\n",
       "      <th>participant_id</th>\n",
       "      <th>video_id</th>\n",
       "      <th>narration_timestamp</th>\n",
       "      <th>start_timestamp</th>\n",
       "      <th>stop_timestamp</th>\n",
       "      <th>start_frame</th>\n",
       "      <th>stop_frame</th>\n",
       "      <th>narration</th>\n",
       "      <th>verb</th>\n",
       "      <th>verb_class</th>\n",
       "      <th>noun</th>\n",
       "      <th>noun_class</th>\n",
       "      <th>all_nouns</th>\n",
       "      <th>all_noun_classes</th>\n",
       "    </tr>\n",
       "    <tr>\n",
       "      <th>narration_id</th>\n",
       "      <th></th>\n",
       "      <th></th>\n",
       "      <th></th>\n",
       "      <th></th>\n",
       "      <th></th>\n",
       "      <th></th>\n",
       "      <th></th>\n",
       "      <th></th>\n",
       "      <th></th>\n",
       "      <th></th>\n",
       "      <th></th>\n",
       "      <th></th>\n",
       "      <th></th>\n",
       "      <th></th>\n",
       "    </tr>\n",
       "  </thead>\n",
       "  <tbody>\n",
       "    <tr>\n",
       "      <th>P01_01_0</th>\n",
       "      <td>P01</td>\n",
       "      <td>P01_01</td>\n",
       "      <td>00:00:01.089</td>\n",
       "      <td>00:00:00.14</td>\n",
       "      <td>00:00:03.37</td>\n",
       "      <td>8</td>\n",
       "      <td>202</td>\n",
       "      <td>open door</td>\n",
       "      <td>open</td>\n",
       "      <td>3</td>\n",
       "      <td>door</td>\n",
       "      <td>3</td>\n",
       "      <td>[door]</td>\n",
       "      <td>[3]</td>\n",
       "    </tr>\n",
       "    <tr>\n",
       "      <th>P01_01_1</th>\n",
       "      <td>P01</td>\n",
       "      <td>P01_01</td>\n",
       "      <td>00:00:02.629</td>\n",
       "      <td>00:00:04.37</td>\n",
       "      <td>00:00:06.17</td>\n",
       "      <td>262</td>\n",
       "      <td>370</td>\n",
       "      <td>turn on light</td>\n",
       "      <td>turn-on</td>\n",
       "      <td>6</td>\n",
       "      <td>light</td>\n",
       "      <td>114</td>\n",
       "      <td>[light]</td>\n",
       "      <td>[114]</td>\n",
       "    </tr>\n",
       "    <tr>\n",
       "      <th>P01_01_10</th>\n",
       "      <td>P01</td>\n",
       "      <td>P01_01</td>\n",
       "      <td>00:00:23.340</td>\n",
       "      <td>00:00:24.97</td>\n",
       "      <td>00:00:26.20</td>\n",
       "      <td>1498</td>\n",
       "      <td>1572</td>\n",
       "      <td>open drawer</td>\n",
       "      <td>open</td>\n",
       "      <td>3</td>\n",
       "      <td>drawer</td>\n",
       "      <td>8</td>\n",
       "      <td>[drawer]</td>\n",
       "      <td>[8]</td>\n",
       "    </tr>\n",
       "    <tr>\n",
       "      <th>P01_01_100</th>\n",
       "      <td>P01</td>\n",
       "      <td>P01_01</td>\n",
       "      <td>00:07:57.919</td>\n",
       "      <td>00:07:59.75</td>\n",
       "      <td>00:08:00.88</td>\n",
       "      <td>28785</td>\n",
       "      <td>28852</td>\n",
       "      <td>take cup</td>\n",
       "      <td>take</td>\n",
       "      <td>0</td>\n",
       "      <td>cup</td>\n",
       "      <td>13</td>\n",
       "      <td>[cup]</td>\n",
       "      <td>[13]</td>\n",
       "    </tr>\n",
       "    <tr>\n",
       "      <th>P01_01_101</th>\n",
       "      <td>P01</td>\n",
       "      <td>P01_01</td>\n",
       "      <td>00:08:00.020</td>\n",
       "      <td>00:08:01.47</td>\n",
       "      <td>00:08:02.21</td>\n",
       "      <td>28888</td>\n",
       "      <td>28932</td>\n",
       "      <td>open cupboard</td>\n",
       "      <td>open</td>\n",
       "      <td>3</td>\n",
       "      <td>cupboard</td>\n",
       "      <td>3</td>\n",
       "      <td>[cupboard]</td>\n",
       "      <td>[3]</td>\n",
       "    </tr>\n",
       "    <tr>\n",
       "      <th>...</th>\n",
       "      <td>...</td>\n",
       "      <td>...</td>\n",
       "      <td>...</td>\n",
       "      <td>...</td>\n",
       "      <td>...</td>\n",
       "      <td>...</td>\n",
       "      <td>...</td>\n",
       "      <td>...</td>\n",
       "      <td>...</td>\n",
       "      <td>...</td>\n",
       "      <td>...</td>\n",
       "      <td>...</td>\n",
       "      <td>...</td>\n",
       "      <td>...</td>\n",
       "    </tr>\n",
       "    <tr>\n",
       "      <th>P37_103_71</th>\n",
       "      <td>P37</td>\n",
       "      <td>P37_103</td>\n",
       "      <td>00:06:16.903</td>\n",
       "      <td>00:06:17.17</td>\n",
       "      <td>00:06:17.67</td>\n",
       "      <td>18858</td>\n",
       "      <td>18883</td>\n",
       "      <td>turn off tap</td>\n",
       "      <td>turn-off</td>\n",
       "      <td>8</td>\n",
       "      <td>tap</td>\n",
       "      <td>0</td>\n",
       "      <td>[tap]</td>\n",
       "      <td>[0]</td>\n",
       "    </tr>\n",
       "    <tr>\n",
       "      <th>P37_103_72</th>\n",
       "      <td>P37</td>\n",
       "      <td>P37_103</td>\n",
       "      <td>00:06:22.154</td>\n",
       "      <td>00:06:17.86</td>\n",
       "      <td>00:06:23.77</td>\n",
       "      <td>18893</td>\n",
       "      <td>19188</td>\n",
       "      <td>take pan</td>\n",
       "      <td>take</td>\n",
       "      <td>0</td>\n",
       "      <td>pan</td>\n",
       "      <td>5</td>\n",
       "      <td>[pan]</td>\n",
       "      <td>[5]</td>\n",
       "    </tr>\n",
       "    <tr>\n",
       "      <th>P37_103_73</th>\n",
       "      <td>P37</td>\n",
       "      <td>P37_103</td>\n",
       "      <td>00:06:26.404</td>\n",
       "      <td>00:06:23.45</td>\n",
       "      <td>00:06:32.66</td>\n",
       "      <td>19172</td>\n",
       "      <td>19633</td>\n",
       "      <td>pour out boiled water</td>\n",
       "      <td>pour-out</td>\n",
       "      <td>9</td>\n",
       "      <td>water:boiled</td>\n",
       "      <td>27</td>\n",
       "      <td>[water:boiled]</td>\n",
       "      <td>[27]</td>\n",
       "    </tr>\n",
       "    <tr>\n",
       "      <th>P37_103_8</th>\n",
       "      <td>P37</td>\n",
       "      <td>P37_103</td>\n",
       "      <td>00:00:41.151</td>\n",
       "      <td>00:00:40.57</td>\n",
       "      <td>00:00:44.19</td>\n",
       "      <td>2028</td>\n",
       "      <td>2209</td>\n",
       "      <td>debone chicken thighs</td>\n",
       "      <td>debone</td>\n",
       "      <td>30</td>\n",
       "      <td>thigh:chicken</td>\n",
       "      <td>57</td>\n",
       "      <td>[thigh:chicken]</td>\n",
       "      <td>[57]</td>\n",
       "    </tr>\n",
       "    <tr>\n",
       "      <th>P37_103_9</th>\n",
       "      <td>P37</td>\n",
       "      <td>P37_103</td>\n",
       "      <td>00:00:44.907</td>\n",
       "      <td>00:00:46.85</td>\n",
       "      <td>00:00:54.64</td>\n",
       "      <td>2342</td>\n",
       "      <td>2732</td>\n",
       "      <td>debone chicken thighs</td>\n",
       "      <td>debone</td>\n",
       "      <td>30</td>\n",
       "      <td>thigh:chicken</td>\n",
       "      <td>57</td>\n",
       "      <td>[thigh:chicken]</td>\n",
       "      <td>[57]</td>\n",
       "    </tr>\n",
       "  </tbody>\n",
       "</table>\n",
       "<p>67217 rows × 14 columns</p>\n",
       "</div>"
      ],
      "text/plain": [
       "             participant_id video_id narration_timestamp start_timestamp   \n",
       "narration_id                                                               \n",
       "P01_01_0                P01   P01_01        00:00:01.089     00:00:00.14  \\\n",
       "P01_01_1                P01   P01_01        00:00:02.629     00:00:04.37   \n",
       "P01_01_10               P01   P01_01        00:00:23.340     00:00:24.97   \n",
       "P01_01_100              P01   P01_01        00:07:57.919     00:07:59.75   \n",
       "P01_01_101              P01   P01_01        00:08:00.020     00:08:01.47   \n",
       "...                     ...      ...                 ...             ...   \n",
       "P37_103_71              P37  P37_103        00:06:16.903     00:06:17.17   \n",
       "P37_103_72              P37  P37_103        00:06:22.154     00:06:17.86   \n",
       "P37_103_73              P37  P37_103        00:06:26.404     00:06:23.45   \n",
       "P37_103_8               P37  P37_103        00:00:41.151     00:00:40.57   \n",
       "P37_103_9               P37  P37_103        00:00:44.907     00:00:46.85   \n",
       "\n",
       "             stop_timestamp  start_frame  stop_frame              narration   \n",
       "narration_id                                                                  \n",
       "P01_01_0        00:00:03.37            8         202              open door  \\\n",
       "P01_01_1        00:00:06.17          262         370          turn on light   \n",
       "P01_01_10       00:00:26.20         1498        1572            open drawer   \n",
       "P01_01_100      00:08:00.88        28785       28852               take cup   \n",
       "P01_01_101      00:08:02.21        28888       28932          open cupboard   \n",
       "...                     ...          ...         ...                    ...   \n",
       "P37_103_71      00:06:17.67        18858       18883           turn off tap   \n",
       "P37_103_72      00:06:23.77        18893       19188               take pan   \n",
       "P37_103_73      00:06:32.66        19172       19633  pour out boiled water   \n",
       "P37_103_8       00:00:44.19         2028        2209  debone chicken thighs   \n",
       "P37_103_9       00:00:54.64         2342        2732  debone chicken thighs   \n",
       "\n",
       "                  verb  verb_class           noun  noun_class   \n",
       "narration_id                                                    \n",
       "P01_01_0          open           3           door           3  \\\n",
       "P01_01_1       turn-on           6          light         114   \n",
       "P01_01_10         open           3         drawer           8   \n",
       "P01_01_100        take           0            cup          13   \n",
       "P01_01_101        open           3       cupboard           3   \n",
       "...                ...         ...            ...         ...   \n",
       "P37_103_71    turn-off           8            tap           0   \n",
       "P37_103_72        take           0            pan           5   \n",
       "P37_103_73    pour-out           9   water:boiled          27   \n",
       "P37_103_8       debone          30  thigh:chicken          57   \n",
       "P37_103_9       debone          30  thigh:chicken          57   \n",
       "\n",
       "                    all_nouns all_noun_classes  \n",
       "narration_id                                    \n",
       "P01_01_0               [door]              [3]  \n",
       "P01_01_1              [light]            [114]  \n",
       "P01_01_10            [drawer]              [8]  \n",
       "P01_01_100              [cup]             [13]  \n",
       "P01_01_101         [cupboard]              [3]  \n",
       "...                       ...              ...  \n",
       "P37_103_71              [tap]              [0]  \n",
       "P37_103_72              [pan]              [5]  \n",
       "P37_103_73     [water:boiled]             [27]  \n",
       "P37_103_8     [thigh:chicken]             [57]  \n",
       "P37_103_9     [thigh:chicken]             [57]  \n",
       "\n",
       "[67217 rows x 14 columns]"
      ]
     },
     "execution_count": 15,
     "metadata": {},
     "output_type": "execute_result"
    }
   ],
   "source": [
    "train_file"
   ]
  },
  {
   "cell_type": "code",
   "execution_count": 14,
   "metadata": {},
   "outputs": [
    {
     "data": {
      "text/plain": [
       "<HDF5 dataset \"hand\": shape (2, 5), type \"<i8\">"
      ]
     },
     "execution_count": 14,
     "metadata": {},
     "output_type": "execute_result"
    }
   ],
   "source": [
    "boxes['P01_01']['1']['hand'].shape"
   ]
  },
  {
   "cell_type": "code",
   "execution_count": 4,
   "metadata": {},
   "outputs": [
    {
     "name": "stderr",
     "output_type": "stream",
     "text": [
      "67217it [20:33, 54.51it/s] \n"
     ]
    }
   ],
   "source": [
    "from tqdm import tqdm\n",
    "total_frames = 0\n",
    "no_hand = 0\n",
    "one_hand = 0\n",
    "two_hands = 0\n",
    "for index, row in tqdm(train_file.iterrows()):\n",
    "    video_id = row['video_id']\n",
    "    start = row['start_frame']\n",
    "    stop = row['stop_frame']\n",
    "    for i in range(start, stop):\n",
    "        try:\n",
    "            num_hands = boxes[video_id][str(i)]['hand'].shape[0]\n",
    "            if num_hands == 1:\n",
    "                one_hand += 1\n",
    "            if num_hands == 2:\n",
    "                two_hands += 1\n",
    "        except:\n",
    "            no_hand += 1\n",
    "        \n",
    "        total_frames += 1\n"
   ]
  },
  {
   "cell_type": "code",
   "execution_count": 5,
   "metadata": {},
   "outputs": [
    {
     "name": "stdout",
     "output_type": "stream",
     "text": [
      "no hand 623004, one hand 0, two hands 10967985, total_frames 11590989\n"
     ]
    }
   ],
   "source": [
    "print('no hand {}, one hand {}, two hands {}, total_frames {}'.format(no_hand, one_hand, two_hands, total_frames))"
   ]
  },
  {
   "cell_type": "code",
   "execution_count": 8,
   "metadata": {},
   "outputs": [
    {
     "name": "stderr",
     "output_type": "stream",
     "text": [
      "9668it [03:51, 41.83it/s] \n"
     ]
    }
   ],
   "source": [
    "VAL_LIST = \"../epic-kitchens-100-annotations/EPIC_100_validation.pkl\"\n",
    "val_file = pandas.read_pickle(VAL_LIST)\n",
    "total_frames = 0\n",
    "no_hand = 0\n",
    "one_hand = 0\n",
    "two_hands = 0\n",
    "for index, row in tqdm(val_file.iterrows()):\n",
    "    video_id = row['video_id']\n",
    "    start = row['start_frame']\n",
    "    stop = row['stop_frame']\n",
    "    for i in range(start, stop):\n",
    "        try:\n",
    "            num_hands = boxes[video_id][str(i)]['hand'].shape[0]\n",
    "            if num_hands == 1:\n",
    "                one_hand += 1\n",
    "            if num_hands == 2:\n",
    "                two_hands += 1\n",
    "        except:\n",
    "            no_hand += 1\n",
    "        \n",
    "        total_frames += 1"
   ]
  },
  {
   "cell_type": "code",
   "execution_count": 9,
   "metadata": {},
   "outputs": [
    {
     "name": "stdout",
     "output_type": "stream",
     "text": [
      "no hand 89280, one hand 0, two hands 2047235, total_frames 2136515\n"
     ]
    }
   ],
   "source": [
    "print('no hand {}, one hand {}, two hands {}, total_frames {}'.format(no_hand, one_hand, two_hands, total_frames))"
   ]
  },
  {
   "cell_type": "code",
   "execution_count": 12,
   "metadata": {},
   "outputs": [
    {
     "name": "stderr",
     "output_type": "stream",
     "text": [
      "13092it [02:20, 93.50it/s] \n"
     ]
    }
   ],
   "source": [
    "TEST_LIST = \"../epic-kitchens-100-annotations/EPIC_100_test_timestamps.pkl\"\n",
    "test_file = pandas.read_pickle(TEST_LIST)\n",
    "total_frames = 0\n",
    "no_hand = 0\n",
    "one_hand = 0\n",
    "two_hands = 0\n",
    "for index, row in tqdm(test_file.iterrows()):\n",
    "    video_id = row['video_id']\n",
    "    start = row['start_frame']\n",
    "    stop = row['stop_frame']\n",
    "    for i in range(start, stop):\n",
    "        try:\n",
    "            num_hands = boxes[video_id][str(i)]['hand'].shape[0]\n",
    "            if num_hands == 1:\n",
    "                one_hand += 1\n",
    "            if num_hands == 2:\n",
    "                two_hands += 1\n",
    "        except:\n",
    "            no_hand += 1\n",
    "        \n",
    "        total_frames += 1"
   ]
  },
  {
   "cell_type": "code",
   "execution_count": null,
   "metadata": {},
   "outputs": [
    {
     "name": "stdout",
     "output_type": "stream",
     "text": [
      "no hand 71407, one hand 0, two hands 1678451, total_frames 1749858\n"
     ]
    }
   ],
   "source": [
    "print('no hand {}, one hand {}, two hands {}, total_frames {}'.format(no_hand, one_hand, two_hands, total_frames))"
   ]
  }
 ],
 "metadata": {
  "kernelspec": {
   "display_name": "transformers",
   "language": "python",
   "name": "python3"
  },
  "language_info": {
   "codemirror_mode": {
    "name": "ipython",
    "version": 3
   },
   "file_extension": ".py",
   "mimetype": "text/x-python",
   "name": "python",
   "nbconvert_exporter": "python",
   "pygments_lexer": "ipython3",
   "version": "3.11.0"
  },
  "orig_nbformat": 4
 },
 "nbformat": 4,
 "nbformat_minor": 2
}
