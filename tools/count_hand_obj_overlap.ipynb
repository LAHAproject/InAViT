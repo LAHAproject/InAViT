{
 "cells": [
  {
   "cell_type": "code",
   "execution_count": null,
   "metadata": {},
   "outputs": [],
   "source": [
    "import h5py\n",
    "import pandas\n",
    "boxes = h5py.File(open('../data_cache/linked_boxes/epickitchens.h5','rb'))\n",
    "TRAIN_LIST = \"../epic-kitchens-100-annotations/EPIC_100_train.pkl\"\n",
    "train_file = pandas.read_pickle(TRAIN_LIST)\n",
    "VAL_LIST = \"../epic-kitchens-100-annotations/EPIC_100_validation.pkl\"\n",
    "val_file = pandas.read_pickle(VAL_LIST)\n",
    "TEST_LIST = \"../epic-kitchens-100-annotations/EPIC_100_test_timestamps.pkl\"\n",
    "test_file = pandas.read_pickle(TEST_LIST)"
   ]
  },
  {
   "cell_type": "code",
   "execution_count": null,
   "metadata": {},
   "outputs": [],
   "source": [
    "def bb_intersection_over_union(boxA, boxB):\n",
    "\t# determine the (x, y)-coordinates of the intersection rectangle\n",
    "\txA = max(boxA[0], boxB[0])\n",
    "\tyA = max(boxA[1], boxB[1])\n",
    "\txB = min(boxA[2], boxB[2])\n",
    "\tyB = min(boxA[3], boxB[3])\n",
    "\t# compute the area of intersection rectangle\n",
    "\tinterArea = max(0, xB - xA + 1) * max(0, yB - yA + 1)\n",
    "\t# compute the area of both the prediction and ground-truth\n",
    "\t# rectangles\n",
    "\tboxAArea = (boxA[2] - boxA[0] + 1) * (boxA[3] - boxA[1] + 1)\n",
    "\tboxBArea = (boxB[2] - boxB[0] + 1) * (boxB[3] - boxB[1] + 1)\n",
    "\t# compute the intersection over union by taking the intersection\n",
    "\t# area and dividing it by the sum of prediction + ground-truth\n",
    "\t# areas - the interesection area\n",
    "\tiou = interArea / float(boxAArea + boxBArea - interArea)\n",
    "\t# return the intersection over union value\n",
    "\treturn iou"
   ]
  },
  {
   "cell_type": "code",
   "execution_count": null,
   "metadata": {},
   "outputs": [],
   "source": [
    "from tqdm import tqdm\n",
    "total_frames = 0\n",
    "overlap_hand_obj = 0\n",
    "no_hand = 0\n",
    "for input_file in [train_file,val_file,test_file]:\n",
    "    for index, row in tqdm(input_file.iterrows()):\n",
    "        video_id = row['video_id']\n",
    "        start = row['start_frame']\n",
    "        stop = row['stop_frame']\n",
    "        for i in range(start, stop):\n",
    "            \n",
    "            try:\n",
    "                num_hands = boxes[video_id][str(i)]['hand'].shape[0]\n",
    "                num_objs = boxes[video_id][str(i)]['obj'].shape[0]    \n",
    "            except:\n",
    "                no_hand += 1\n",
    "            for hand in range(num_hands):\n",
    "                hand_box = boxes[video_id][str(i)]['hand'][hand, :][:4]\n",
    "                \n",
    "                for obj in range(num_objs):\n",
    "                    obj_box = boxes[video_id][str(i)]['obj'][obj, :][:4]\n",
    "                    iou = bb_intersection_over_union(hand_box, obj_box)\n",
    "                    if iou > 0.5:\n",
    "                        overlap_hand_obj += 1\n",
    "                \n",
    "           \n",
    "            \n",
    "            total_frames += 1"
   ]
  },
  {
   "cell_type": "code",
   "execution_count": null,
   "metadata": {},
   "outputs": [],
   "source": [
    "hand_box"
   ]
  }
 ],
 "metadata": {
  "kernelspec": {
   "display_name": "motionformer",
   "language": "python",
   "name": "python3"
  },
  "language_info": {
   "codemirror_mode": {
    "name": "ipython",
    "version": 3
   },
   "file_extension": ".py",
   "mimetype": "text/x-python",
   "name": "python",
   "nbconvert_exporter": "python",
   "pygments_lexer": "ipython3",
   "version": "3.8.5"
  },
  "orig_nbformat": 4
 },
 "nbformat": 4,
 "nbformat_minor": 2
}
