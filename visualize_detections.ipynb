{
 "cells": [
  {
   "cell_type": "code",
   "execution_count": null,
   "metadata": {},
   "outputs": [],
   "source": [
    "import h5py\n",
    "import pandas\n",
    "boxes = h5py.File(open('../data_cache/linked_boxes/epickitchens.h5','rb'))\n",
    "TRAIN_LIST = \"../epic-kitchens-100-annotations/EPIC_100_train.pkl\"\n",
    "train_file = pandas.read_pickle(TRAIN_LIST)\n",
    "VAL_LIST = \"../epic-kitchens-100-annotations/EPIC_100_validation.pkl\"\n",
    "val_file = pandas.read_pickle(VAL_LIST)\n",
    "TEST_LIST = \"../epic-kitchens-100-annotations/EPIC_100_test_timestamps.pkl\"\n",
    "test_file = pandas.read_pickle(TEST_LIST)"
   ]
  }
 ],
 "metadata": {
  "kernelspec": {
   "display_name": "transformers",
   "language": "python",
   "name": "python3"
  },
  "language_info": {
   "name": "python",
   "version": "3.11.0"
  },
  "orig_nbformat": 4
 },
 "nbformat": 4,
 "nbformat_minor": 2
}
