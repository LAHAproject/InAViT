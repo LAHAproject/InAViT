{
  "cells": [
    {
      "cell_type": "code",
      "execution_count": 6,
      "metadata": {
        "collapsed": false
      },
      "outputs": [],
      "source": [
        "%matplotlib inline"
      ]
    },
    {
      "cell_type": "code",
      "execution_count": 7,
      "metadata": {},
      "outputs": [],
      "source": [
        "import torch\n",
        "import torch.nn as nn\n",
        "import torch.nn.functional as F"
      ]
    },
    {
      "cell_type": "code",
      "execution_count": 8,
      "metadata": {},
      "outputs": [],
      "source": [
        "from torch.utils.data import Dataset\n",
        "\n",
        "class VNdata(Dataset):\n",
        "    def __init__(self, pt_file):\n",
        "        self.datafile = torch.load(pt_file)\n",
        "        self.input = []\n",
        "        for key in self.datafile.keys():\n",
        "            item = self.datafile[key][0]\n",
        "            self.input.append((item['verb'], item['noun'], item['action_label']))\n",
        "\n",
        "    def __getitem__(self, index):\n",
        "        verb_score, noun_score, action_label = self.input[index]\n",
        "        return verb_score, noun_score, action_label\n",
        "\n",
        "    def __len__(self):\n",
        "        return len(self.input)"
      ]
    },
    {
      "cell_type": "code",
      "execution_count": 41,
      "metadata": {
        "collapsed": false
      },
      "outputs": [],
      "source": [
        "from torch.utils.data import DataLoader\n",
        "train_pt = '/data/usrdata/roy/checkpoints/hoivit_ek_wmotion_doubleatt_ant/EPIC_100_train.pt'\n",
        "val_pt = '/data/usrdata/roy/checkpoints/hoivit_ek_wmotion_doubleatt_ant/EPIC_100_validation.pt'\n",
        "train_set = VNdata(train_pt)\n",
        "val_set = VNdata(val_pt)\n",
        "\n",
        "trainloader = DataLoader(val_set, batch_size=64, shuffle=True)\n",
        "valloader = DataLoader(train_set, batch_size=64, shuffle=False)"
      ]
    },
    {
      "cell_type": "code",
      "execution_count": 42,
      "metadata": {},
      "outputs": [
        {
          "data": {
            "text/plain": [
              "Net(\n",
              "  (fc1): Linear(in_features=97, out_features=512, bias=True)\n",
              "  (bn1): BatchNorm1d(512, eps=1e-05, momentum=0.1, affine=True, track_running_stats=True)\n",
              "  (fc2): Linear(in_features=300, out_features=512, bias=True)\n",
              "  (bn2): BatchNorm1d(512, eps=1e-05, momentum=0.1, affine=True, track_running_stats=True)\n",
              "  (fc3): Linear(in_features=1024, out_features=3806, bias=True)\n",
              "  (dropout): Dropout(p=0.5, inplace=False)\n",
              ")"
            ]
          },
          "execution_count": 42,
          "metadata": {},
          "output_type": "execute_result"
        }
      ],
      "source": [
        "class Net(nn.Module):\n",
        "\n",
        "    def __init__(self):\n",
        "        super(Net, self).__init__()\n",
        "        self.fc1 = nn.Linear(97, 512)  \n",
        "        self.bn1 = nn.BatchNorm1d(512)\n",
        "        self.fc2 = nn.Linear(300, 512)\n",
        "        self.bn2 = nn.BatchNorm1d(512)\n",
        "        self.fc3 = nn.Linear(1024, 3806)\n",
        "        self.dropout = nn.Dropout()\n",
        "    def forward(self, verb, noun):\n",
        "        verb = F.relu(self.bn1(self.fc1(verb)))\n",
        "        noun = F.relu(self.bn2(self.fc2(noun)))\n",
        "        out = torch.concat((verb,noun),dim=1)\n",
        "        # print(out.shape)\n",
        "        out = self.dropout(out)\n",
        "        out = self.fc3(out)\n",
        "        return out\n",
        "\n",
        "\n",
        "net = Net()\n",
        "device = torch.cuda.current_device()\n",
        "net.to(device)"
      ]
    },
    {
      "cell_type": "code",
      "execution_count": 43,
      "metadata": {
        "collapsed": false
      },
      "outputs": [
        {
          "name": "stdout",
          "output_type": "stream",
          "text": [
            "[Train Epoch 0 [Action Mean Recall @5: 2.95]\n",
            "[Train Epoch 1 [Action Mean Recall @5: 5.79]\n",
            "[Train Epoch 2 [Action Mean Recall @5: 8.34]\n",
            "[Train Epoch 3 [Action Mean Recall @5: 11.09]\n",
            "[Train Epoch 4 [Action Mean Recall @5: 15.38]\n",
            "[Train Epoch 5 [Action Mean Recall @5: 20.67]\n",
            "[Train Epoch 6 [Action Mean Recall @5: 28.84]\n",
            "[Train Epoch 7 [Action Mean Recall @5: 36.37]\n",
            "[Train Epoch 8 [Action Mean Recall @5: 43.84]\n",
            "[Train Epoch 9 [Action Mean Recall @5: 51.58]\n",
            "[Train Epoch 10 [Action Mean Recall @5: 56.61]\n"
          ]
        },
        {
          "ename": "KeyboardInterrupt",
          "evalue": "",
          "output_type": "error",
          "traceback": [
            "\u001b[0;31m---------------------------------------------------------------------------\u001b[0m",
            "\u001b[0;31mKeyboardInterrupt\u001b[0m                         Traceback (most recent call last)",
            "\u001b[1;32m/data/fastdata/roy/HOIVIT/slowfast/models/vn2act_ant.ipynb Cell 6\u001b[0m in \u001b[0;36m<cell line: 9>\u001b[0;34m()\u001b[0m\n\u001b[1;32m     <a href='vscode-notebook-cell://ssh-remote%2B172.20.74.69/data/fastdata/roy/HOIVIT/slowfast/models/vn2act_ant.ipynb#W5sdnNjb2RlLXJlbW90ZQ%3D%3D?line=26'>27</a>\u001b[0m     \u001b[39mfor\u001b[39;00m \u001b[39mcls\u001b[39m \u001b[39min\u001b[39;00m \u001b[39mrange\u001b[39m(num_classes):\n\u001b[1;32m     <a href='vscode-notebook-cell://ssh-remote%2B172.20.74.69/data/fastdata/roy/HOIVIT/slowfast/models/vn2act_ant.ipynb#W5sdnNjb2RlLXJlbW90ZQ%3D%3D?line=27'>28</a>\u001b[0m         class_wise_frequency[\u001b[39mcls\u001b[39m] \u001b[39m+\u001b[39m\u001b[39m=\u001b[39m (action_label \u001b[39m==\u001b[39m \u001b[39mcls\u001b[39m)\u001b[39m.\u001b[39msum()\u001b[39m.\u001b[39mitem()\n\u001b[0;32m---> <a href='vscode-notebook-cell://ssh-remote%2B172.20.74.69/data/fastdata/roy/HOIVIT/slowfast/models/vn2act_ant.ipynb#W5sdnNjb2RlLXJlbW90ZQ%3D%3D?line=28'>29</a>\u001b[0m         class_wise_correct5[\u001b[39mcls\u001b[39m] \u001b[39m+\u001b[39m\u001b[39m=\u001b[39m (correct5 \u001b[39m==\u001b[39;49m \u001b[39mcls\u001b[39;49m)\u001b[39m.\u001b[39;49msum()\u001b[39m.\u001b[39;49mitem()\n\u001b[1;32m     <a href='vscode-notebook-cell://ssh-remote%2B172.20.74.69/data/fastdata/roy/HOIVIT/slowfast/models/vn2act_ant.ipynb#W5sdnNjb2RlLXJlbW90ZQ%3D%3D?line=30'>31</a>\u001b[0m class_wise_recall5 \u001b[39m=\u001b[39m []\n\u001b[1;32m     <a href='vscode-notebook-cell://ssh-remote%2B172.20.74.69/data/fastdata/roy/HOIVIT/slowfast/models/vn2act_ant.ipynb#W5sdnNjb2RlLXJlbW90ZQ%3D%3D?line=31'>32</a>\u001b[0m \u001b[39mfor\u001b[39;00m \u001b[39mcls\u001b[39m \u001b[39min\u001b[39;00m \u001b[39mrange\u001b[39m(num_classes):\n",
            "\u001b[0;31mKeyboardInterrupt\u001b[0m: "
          ]
        }
      ],
      "source": [
        "import torch.optim as optim\n",
        "import numpy as np\n",
        "\n",
        "criterion = nn.CrossEntropyLoss(label_smoothing=0.1)\n",
        "optimizer = optim.AdamW(net.parameters(), lr=0.01)\n",
        "num_classes = 3806\n",
        "\n",
        "loss_list = []\n",
        "for epoch in range(100):\n",
        "    class_wise_frequency = np.zeros(num_classes)\n",
        "    class_wise_correct5 = np.zeros(num_classes)\n",
        "    for i, data in enumerate(trainloader):\n",
        "        verb_score, noun_score, action_label = data\n",
        "        optimizer.zero_grad()   # zero the gradient buffers\n",
        "        output = net(verb_score.to(device), noun_score.to(device))\n",
        "        loss = criterion(output, action_label.to(device))\n",
        "        loss_list.append(loss.item())\n",
        "        loss.backward()\n",
        "        optimizer.step()    # Does the update\n",
        "\n",
        "        output = output.detach().cpu()    \n",
        "        _, pred5 = output.topk(k=5, dim=-1)\n",
        "        \n",
        "        target5 = action_label.unsqueeze(dim=-1).expand_as(pred5)\n",
        "        correct5 = target5[pred5 == target5] # [] if different and class_num if same\n",
        "        \n",
        "        for cls in range(num_classes):\n",
        "            class_wise_frequency[cls] += (action_label == cls).sum().item()\n",
        "            class_wise_correct5[cls] += (correct5 == cls).sum().item()\n",
        "    \n",
        "    class_wise_recall5 = []\n",
        "    for cls in range(num_classes):\n",
        "        if class_wise_frequency[cls] != 0:\n",
        "           class_wise_recall5.append(class_wise_correct5[cls] / class_wise_frequency[cls])\n",
        "\n",
        "    mean_recall5 = torch.Tensor(class_wise_recall5).mean()*100\n",
        "\n",
        "    print('[Train Epoch {} [Action Mean Recall @5: {:.2f}]'.format(epoch, mean_recall5.item()))\n",
        "\n",
        "    class_wise_frequency = np.zeros(num_classes)\n",
        "    class_wise_correct5 = np.zeros(num_classes)\n",
        "    with torch.no_grad():\n",
        "        for i, data in enumerate(valloader):\n",
        "            verb_score, noun_score, action_label = data\n",
        "            output = net(verb_score.to(device), noun_score.to(device))\n",
        "            \n",
        "            output = output.detach().cpu()    \n",
        "            _, pred5 = output.topk(k=5, dim=-1)\n",
        "            \n",
        "            target5 = action_label.unsqueeze(dim=-1).expand_as(pred5)\n",
        "            correct5 = target5[pred5 == target5] # [] if different and class_num if same\n",
        "            \n",
        "            for cls in range(num_classes):\n",
        "                class_wise_frequency[cls] += (action_label == cls).sum().item()\n",
        "                class_wise_correct5[cls] += (correct5 == cls).sum().item()\n",
        "    \n",
        "    class_wise_recall5 = []\n",
        "    for cls in range(num_classes):\n",
        "        if class_wise_frequency[cls] != 0:\n",
        "           class_wise_recall5.append(class_wise_correct5[cls] / class_wise_frequency[cls])\n",
        "\n",
        "    mean_recall5 = torch.Tensor(class_wise_recall5).mean()*100\n",
        "\n",
        "    print('[Val Epoch {} [Action Mean Recall @5: {:.2f}]'.format(epoch, mean_recall5.item()))"
      ]
    },
    {
      "cell_type": "code",
      "execution_count": 1,
      "metadata": {},
      "outputs": [
        {
          "ename": "NameError",
          "evalue": "name 'np' is not defined",
          "output_type": "error",
          "traceback": [
            "\u001b[0;31m---------------------------------------------------------------------------\u001b[0m",
            "\u001b[0;31mNameError\u001b[0m                                 Traceback (most recent call last)",
            "\u001b[1;32m/data/fastdata/roy/HOIVIT/slowfast/models/vn2act_ant.ipynb Cell 7\u001b[0m in \u001b[0;36m<cell line: 2>\u001b[0;34m()\u001b[0m\n\u001b[1;32m      <a href='vscode-notebook-cell://ssh-remote%2B172.20.74.69/data/fastdata/roy/HOIVIT/slowfast/models/vn2act_ant.ipynb#W6sdnNjb2RlLXJlbW90ZQ%3D%3D?line=0'>1</a>\u001b[0m \u001b[39mimport\u001b[39;00m \u001b[39mmatplotlib\u001b[39;00m\u001b[39m.\u001b[39;00m\u001b[39mpyplot\u001b[39;00m \u001b[39mas\u001b[39;00m \u001b[39mplt\u001b[39;00m\n\u001b[0;32m----> <a href='vscode-notebook-cell://ssh-remote%2B172.20.74.69/data/fastdata/roy/HOIVIT/slowfast/models/vn2act_ant.ipynb#W6sdnNjb2RlLXJlbW90ZQ%3D%3D?line=1'>2</a>\u001b[0m loss_list \u001b[39m=\u001b[39m np\u001b[39m.\u001b[39marray(loss_list)\n\u001b[1;32m      <a href='vscode-notebook-cell://ssh-remote%2B172.20.74.69/data/fastdata/roy/HOIVIT/slowfast/models/vn2act_ant.ipynb#W6sdnNjb2RlLXJlbW90ZQ%3D%3D?line=2'>3</a>\u001b[0m step \u001b[39m=\u001b[39m np\u001b[39m.\u001b[39mlinspace(\u001b[39m0\u001b[39m, loss_list\u001b[39m.\u001b[39mshape[\u001b[39m0\u001b[39m], loss_list\u001b[39m.\u001b[39mshape[\u001b[39m0\u001b[39m])\n\u001b[1;32m      <a href='vscode-notebook-cell://ssh-remote%2B172.20.74.69/data/fastdata/roy/HOIVIT/slowfast/models/vn2act_ant.ipynb#W6sdnNjb2RlLXJlbW90ZQ%3D%3D?line=3'>4</a>\u001b[0m plt\u001b[39m.\u001b[39mplot(step,loss_list)\n",
            "\u001b[0;31mNameError\u001b[0m: name 'np' is not defined"
          ]
        }
      ],
      "source": [
        "import matplotlib.pyplot as plt\n",
        "loss_list = np.array(loss_list)\n",
        "step = np.linspace(0, loss_list.shape[0], loss_list.shape[0])\n",
        "plt.plot(step,loss_list)"
      ]
    }
  ],
  "metadata": {
    "kernelspec": {
      "display_name": "Python 3.8.13 ('motionformer')",
      "language": "python",
      "name": "python3"
    },
    "language_info": {
      "codemirror_mode": {
        "name": "ipython",
        "version": 3
      },
      "file_extension": ".py",
      "mimetype": "text/x-python",
      "name": "python",
      "nbconvert_exporter": "python",
      "pygments_lexer": "ipython3",
      "version": "3.8.13"
    },
    "vscode": {
      "interpreter": {
        "hash": "12ff323c46575435eb8cef216c00fb0b433a7daae18c3fd67e0f1e6c3e814f11"
      }
    }
  },
  "nbformat": 4,
  "nbformat_minor": 0
}
